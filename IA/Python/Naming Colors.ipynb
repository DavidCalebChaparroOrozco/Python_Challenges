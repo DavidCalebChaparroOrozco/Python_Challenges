{
 "cells": [
  {
   "cell_type": "code",
   "execution_count": 2,
   "id": "056993d6",
   "metadata": {},
   "outputs": [],
   "source": [
    "import webcolors\n",
    "import matplotlib.pyplot as plt"
   ]
  },
  {
   "cell_type": "code",
   "execution_count": 3,
   "id": "81447f67",
   "metadata": {},
   "outputs": [
    {
     "name": "stdout",
     "output_type": "stream",
     "text": [
      "dict_items([('aliceblue', '#f0f8ff'), ('antiquewhite', '#faebd7'), ('aqua', '#00ffff'), ('aquamarine', '#7fffd4'), ('azure', '#f0ffff'), ('beige', '#f5f5dc'), ('bisque', '#ffe4c4'), ('black', '#000000'), ('blanchedalmond', '#ffebcd'), ('blue', '#0000ff'), ('blueviolet', '#8a2be2'), ('brown', '#a52a2a'), ('burlywood', '#deb887'), ('cadetblue', '#5f9ea0'), ('chartreuse', '#7fff00'), ('chocolate', '#d2691e'), ('coral', '#ff7f50'), ('cornflowerblue', '#6495ed'), ('cornsilk', '#fff8dc'), ('crimson', '#dc143c'), ('cyan', '#00ffff'), ('darkblue', '#00008b'), ('darkcyan', '#008b8b'), ('darkgoldenrod', '#b8860b'), ('darkgray', '#a9a9a9'), ('darkgrey', '#a9a9a9'), ('darkgreen', '#006400'), ('darkkhaki', '#bdb76b'), ('darkmagenta', '#8b008b'), ('darkolivegreen', '#556b2f'), ('darkorange', '#ff8c00'), ('darkorchid', '#9932cc'), ('darkred', '#8b0000'), ('darksalmon', '#e9967a'), ('darkseagreen', '#8fbc8f'), ('darkslateblue', '#483d8b'), ('darkslategray', '#2f4f4f'), ('darkslategrey', '#2f4f4f'), ('darkturquoise', '#00ced1'), ('darkviolet', '#9400d3'), ('deeppink', '#ff1493'), ('deepskyblue', '#00bfff'), ('dimgray', '#696969'), ('dimgrey', '#696969'), ('dodgerblue', '#1e90ff'), ('firebrick', '#b22222'), ('floralwhite', '#fffaf0'), ('forestgreen', '#228b22'), ('fuchsia', '#ff00ff'), ('gainsboro', '#dcdcdc'), ('ghostwhite', '#f8f8ff'), ('gold', '#ffd700'), ('goldenrod', '#daa520'), ('gray', '#808080'), ('grey', '#808080'), ('green', '#008000'), ('greenyellow', '#adff2f'), ('honeydew', '#f0fff0'), ('hotpink', '#ff69b4'), ('indianred', '#cd5c5c'), ('indigo', '#4b0082'), ('ivory', '#fffff0'), ('khaki', '#f0e68c'), ('lavender', '#e6e6fa'), ('lavenderblush', '#fff0f5'), ('lawngreen', '#7cfc00'), ('lemonchiffon', '#fffacd'), ('lightblue', '#add8e6'), ('lightcoral', '#f08080'), ('lightcyan', '#e0ffff'), ('lightgoldenrodyellow', '#fafad2'), ('lightgray', '#d3d3d3'), ('lightgrey', '#d3d3d3'), ('lightgreen', '#90ee90'), ('lightpink', '#ffb6c1'), ('lightsalmon', '#ffa07a'), ('lightseagreen', '#20b2aa'), ('lightskyblue', '#87cefa'), ('lightslategray', '#778899'), ('lightslategrey', '#778899'), ('lightsteelblue', '#b0c4de'), ('lightyellow', '#ffffe0'), ('lime', '#00ff00'), ('limegreen', '#32cd32'), ('linen', '#faf0e6'), ('magenta', '#ff00ff'), ('maroon', '#800000'), ('mediumaquamarine', '#66cdaa'), ('mediumblue', '#0000cd'), ('mediumorchid', '#ba55d3'), ('mediumpurple', '#9370db'), ('mediumseagreen', '#3cb371'), ('mediumslateblue', '#7b68ee'), ('mediumspringgreen', '#00fa9a'), ('mediumturquoise', '#48d1cc'), ('mediumvioletred', '#c71585'), ('midnightblue', '#191970'), ('mintcream', '#f5fffa'), ('mistyrose', '#ffe4e1'), ('moccasin', '#ffe4b5'), ('navajowhite', '#ffdead'), ('navy', '#000080'), ('oldlace', '#fdf5e6'), ('olive', '#808000'), ('olivedrab', '#6b8e23'), ('orange', '#ffa500'), ('orangered', '#ff4500'), ('orchid', '#da70d6'), ('palegoldenrod', '#eee8aa'), ('palegreen', '#98fb98'), ('paleturquoise', '#afeeee'), ('palevioletred', '#db7093'), ('papayawhip', '#ffefd5'), ('peachpuff', '#ffdab9'), ('peru', '#cd853f'), ('pink', '#ffc0cb'), ('plum', '#dda0dd'), ('powderblue', '#b0e0e6'), ('purple', '#800080'), ('red', '#ff0000'), ('rosybrown', '#bc8f8f'), ('royalblue', '#4169e1'), ('saddlebrown', '#8b4513'), ('salmon', '#fa8072'), ('sandybrown', '#f4a460'), ('seagreen', '#2e8b57'), ('seashell', '#fff5ee'), ('sienna', '#a0522d'), ('silver', '#c0c0c0'), ('skyblue', '#87ceeb'), ('slateblue', '#6a5acd'), ('slategray', '#708090'), ('slategrey', '#708090'), ('snow', '#fffafa'), ('springgreen', '#00ff7f'), ('steelblue', '#4682b4'), ('tan', '#d2b48c'), ('teal', '#008080'), ('thistle', '#d8bfd8'), ('tomato', '#ff6347'), ('turquoise', '#40e0d0'), ('violet', '#ee82ee'), ('wheat', '#f5deb3'), ('white', '#ffffff'), ('whitesmoke', '#f5f5f5'), ('yellow', '#ffff00'), ('yellowgreen', '#9acd32')])\n"
     ]
    }
   ],
   "source": [
    "print(webcolors.CSS3_NAMES_TO_HEX.items())"
   ]
  },
  {
   "cell_type": "code",
   "execution_count": 12,
   "id": "528a77b0",
   "metadata": {},
   "outputs": [
    {
     "name": "stdout",
     "output_type": "stream",
     "text": [
      "magenta\n"
     ]
    }
   ],
   "source": [
    "print(webcolors.rgb_to_name((255,0,255)))"
   ]
  },
  {
   "cell_type": "code",
   "execution_count": 13,
   "id": "d8a52fba",
   "metadata": {},
   "outputs": [],
   "source": [
    "def closetst_color(rgb):\n",
    "    difference = {}\n",
    "    for color_hex, color_name in webcolors.CSS3_HEX_TO_NAMES.items():\n",
    "        r, g, b = webcolors.hex_to_rgb(color_hex)\n",
    "        difference[sum([\n",
    "            ( r - rgb[0])**2,\n",
    "            ( g - rgb[1])**2,\n",
    "            ( b - rgb[2])**2])] = color_name\n",
    "    return difference[min(difference.keys())]"
   ]
  },
  {
   "cell_type": "code",
   "execution_count": 24,
   "id": "8d00686d",
   "metadata": {},
   "outputs": [],
   "source": [
    "color = (125,125,225)"
   ]
  },
  {
   "cell_type": "code",
   "execution_count": 25,
   "id": "4c062403",
   "metadata": {},
   "outputs": [
    {
     "name": "stdout",
     "output_type": "stream",
     "text": [
      "The color is closest to: mediumslateblue\n"
     ]
    },
    {
     "data": {
      "image/png": "[encoded data removed]",
      "text/plain": [
       "<Figure size 432x288 with 1 Axes>"
      ]
     },
     "metadata": {
      "needs_background": "light"
     },
     "output_type": "display_data"
    }
   ],
   "source": [
    "try:\n",
    "    cname = webcolors.rgb_to_name(color)\n",
    "    print(f'The color is exactly: {cname}')\n",
    "except ValueError:\n",
    "    cname = closetst_color(color)\n",
    "    print(f'The color is closest to: {cname}')\n",
    "plt.imshow([[color]])\n",
    "plt.show()"
   ]
  },
  {
   "cell_type": "code",
   "execution_count": null,
   "id": "6cb71c9b",
   "metadata": {},
   "outputs": [],
   "source": []
  },
  {
   "cell_type": "code",
   "execution_count": null,
   "id": "588d06b2",
   "metadata": {},
   "outputs": [],
   "source": []
  }
 ],
 "metadata": {
  "kernelspec": {
   "display_name": "Python 3 (ipykernel)",
   "language": "python",
   "name": "python3"
  },
  "language_info": {
   "codemirror_mode": {
    "name": "ipython",
    "version": 3
   },
   "file_extension": ".py",
   "mimetype": "text/x-python",
   "name": "python",
   "nbconvert_exporter": "python",
   "pygments_lexer": "ipython3",
   "version": "3.9.12"
  }
 },
 "nbformat": 4,
 "nbformat_minor": 5
}
